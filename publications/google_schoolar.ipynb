{
 "cells": [
  {
   "cell_type": "markdown",
   "id": "2eb5614e-f7e6-47ca-9740-3594436ae0c7",
   "metadata": {},
   "source": [
    "**Date Created**: 04-16-2025  \n",
    "**Date of the last Update:** 04-16-2025  \n",
    "___"
   ]
  },
  {
   "cell_type": "markdown",
   "id": "74535a65-89a0-4e66-b62a-8c30413181c4",
   "metadata": {},
   "source": [
    "► **Install scholarly:**  \n",
    "Install scholarly to retrieve author and publication information from Google Scholar:\n",
    "```\n",
    "pip install scholarly\n",
    "```\n",
    "   \n",
    "Documentation: https://scholarly.readthedocs.io/en/stable/quickstart.html  \n",
    "GitHub: https://github.com/scholarly-python-package/scholarly  "
   ]
  },
  {
   "cell_type": "code",
   "execution_count": null,
   "id": "02d2bf16-62f0-4cde-bd08-c1b0c95031f7",
   "metadata": {},
   "outputs": [],
   "source": []
  },
  {
   "cell_type": "markdown",
   "id": "758132e3-daf1-4117-bc6b-e724d256fbd1",
   "metadata": {},
   "source": [
    "# Imports & Settings"
   ]
  },
  {
   "cell_type": "code",
   "id": "ed3353f6-cce7-42da-af35-35686d488d55",
   "metadata": {
    "tags": [],
    "jupyter": {
     "is_executing": true
    }
   },
   "source": [
    "import json\n",
    "import re\n",
    "from datetime import datetime\n",
    "from pathlib import Path\n",
    "\n",
    "from scholarly import scholarly"
   ],
   "outputs": [],
   "execution_count": null
  },
  {
   "cell_type": "code",
   "execution_count": null,
   "id": "8997850c-cf2c-41d1-81f1-7970dc53f417",
   "metadata": {},
   "outputs": [],
   "source": []
  },
  {
   "cell_type": "markdown",
   "id": "615b39e3-cfe5-45bd-a026-3de15179f538",
   "metadata": {},
   "source": [
    "# Getting a list of publications from a profile\n",
    "**Ruslan's profile link:** https://scholar.google.com/citations?user=U7yVbHIAAAAJ&hl=en  \n"
   ]
  },
  {
   "cell_type": "code",
   "execution_count": 2,
   "id": "b860d815-c731-4853-940c-2d7b557b69e8",
   "metadata": {
    "tags": []
   },
   "outputs": [],
   "source": [
    "today = datetime.today().strftime('%m-%d-%Y')\n",
    "filename = f'publications_detailed_{today}.json'\n",
    "filepath = Path(\"/restricted/projectnb/trypmito/personal_workspaces/annaparf/projects/afasilab.github.io/publications/gs_json/\")\n",
    "filepath.mkdir(parents=True, exist_ok=True)\n",
    "full_path = filepath / filename"
   ]
  },
  {
   "cell_type": "code",
   "execution_count": 3,
   "id": "f3edcbc2-a3c8-41ee-84d2-c34448a42047",
   "metadata": {
    "tags": []
   },
   "outputs": [],
   "source": [
    "author_id = 'U7yVbHIAAAAJ' # Ruslan\n",
    "search_query = scholarly.search_author_id(author_id)\n",
    "author = scholarly.fill(search_query, sections=['publications'])"
   ]
  },
  {
   "cell_type": "code",
   "execution_count": 4,
   "id": "4264b803-ee51-4d8f-a44d-1eedd12905a6",
   "metadata": {
    "tags": []
   },
   "outputs": [],
   "source": [
    "publications = []\n",
    "\n",
    "for pub in author['publications']:\n",
    "    filled_pub = scholarly.fill(pub)\n",
    "    bib = filled_pub.get('bib', {})\n",
    "    \n",
    "    publications.append({\n",
    "        'title': bib.get('title', ''),\n",
    "        'authors': bib.get('author', ''),\n",
    "        'year': bib.get('pub_year', ''),\n",
    "        'journal': bib.get('journal', ''),\n",
    "        'volume': bib.get('volume', ''),\n",
    "        'number': bib.get('number', ''),\n",
    "        'pages': bib.get('pages', ''),\n",
    "        'publisher': bib.get('publisher', ''),\n",
    "        'abstract': bib.get('abstract', ''),\n",
    "        'citation': bib.get('citation', ''),\n",
    "        'num_citations': filled_pub.get('num_citations', 0),\n",
    "        'pub_url': filled_pub.get('pub_url', ''),\n",
    "        'author_pub_id': filled_pub.get('author_pub_id', ''),\n",
    "    })\n",
    "\n",
    "with open(full_path, 'w', encoding='utf-8') as f:\n",
    "    json.dump(publications, f, ensure_ascii=False, indent=2)"
   ]
  },
  {
   "cell_type": "code",
   "execution_count": null,
   "id": "809c839b-2914-45d3-8165-cfc8e26bccea",
   "metadata": {},
   "outputs": [],
   "source": []
  },
  {
   "cell_type": "markdown",
   "id": "71056141-81af-42a0-9a68-c0217e5b0e9a",
   "metadata": {},
   "source": [
    "# Prepare citates"
   ]
  },
  {
   "cell_type": "code",
   "execution_count": 5,
   "id": "779daf3e-0f1d-4960-a80d-f9ee176f80a7",
   "metadata": {
    "tags": []
   },
   "outputs": [],
   "source": [
    "# Paths\n",
    "json_path = Path(\"/restricted/projectnb/trypmito/personal_workspaces/annaparf/projects/afasilab.github.io/publications/gs_json/publications_detailed_04-16-2025.json\")\n",
    "index_path = Path(\"/restricted/projectnb/trypmito/personal_workspaces/annaparf/projects/afasilab.github.io/index.html\")\n",
    "\n",
    "\n",
    "# Upload json\n",
    "with open(json_path, 'r', encoding='utf-8') as f:\n",
    "    publications = json.load(f)\n",
    "\n",
    "\n",
    "# Delete without year, sort in descending order\n",
    "publications = [p for p in publications if p.get('year')]\n",
    "publications.sort(key=lambda x: int(x['year']), reverse=True)\n",
    "\n",
    "\n",
    "# Generate html block (section)\n",
    "pub_html_blocks = []\n",
    "for pub in publications:\n",
    "    authors = pub.get('authors', '')\n",
    "    title = pub.get('title', '')\n",
    "    journal = pub.get('journal', '')\n",
    "    volume = pub.get('volume', '')\n",
    "    number = pub.get('number', '')\n",
    "    pages = pub.get('pages', '')\n",
    "    year = pub.get('year', '')\n",
    "    url = pub.get('pub_url', '')\n",
    "\n",
    "    # Генерация текста цитаты\n",
    "    citation = f\"{authors}. {title}.\"\n",
    "    citation += f\" <em>{journal}</em>\" if journal else \"\"\n",
    "    if volume:\n",
    "        citation += f\", <strong>{volume}</strong>\"\n",
    "    if number:\n",
    "        citation += f\"({number})\"\n",
    "    if pages:\n",
    "        citation += f\", {pages}\"\n",
    "    citation += f\", {year}.\"\n",
    "\n",
    "    entry_html = f\"\"\"\n",
    "    <div class=\"pub-entry\">\n",
    "      <p>{citation}<br><em>(Link to this publication: <a href=\"{url}\" target=\"_blank\">{url}</a>)</em></p>\n",
    "    </div>\n",
    "    \"\"\"\n",
    "    pub_html_blocks.append(entry_html)\n",
    "\n",
    "\n",
    "# Final section with publications\n",
    "new_publications_block = f\"\"\"\n",
    "<section id=\"publications\">\n",
    "  <h2>Publications</h2>\n",
    "  <div class=\"publications\">\n",
    "    {''.join(pub_html_blocks)}\n",
    "  </div>\n",
    "</section>\n",
    "\"\"\"\n",
    "\n",
    "\n",
    "# Upload index.html\n",
    "with open(index_path, 'r', encoding='utf-8') as f:\n",
    "    html = f.read()\n",
    "\n",
    "\n",
    "# Replacing the publication section\n",
    "html = re.sub(\n",
    "    r'<section id=\"publications\">.*?</section>',\n",
    "    new_publications_block,\n",
    "    html,\n",
    "    flags=re.DOTALL\n",
    ")"
   ]
  },
  {
   "cell_type": "code",
   "execution_count": 6,
   "id": "d554c97c-326c-4a8d-a8a3-58df82f253ad",
   "metadata": {
    "tags": []
   },
   "outputs": [
    {
     "name": "stdout",
     "output_type": "stream",
     "text": [
      "✅ index.html is successfully updated!\n"
     ]
    }
   ],
   "source": [
    "# Save the updated index.html\n",
    "with open(index_path, 'w', encoding='utf-8') as f:\n",
    "    f.write(html)\n",
    "\n",
    "print(\"✅ index.html is successfully updated!\")"
   ]
  },
  {
   "cell_type": "code",
   "execution_count": null,
   "id": "e1d3ac32-3d90-4486-8256-b338519e1621",
   "metadata": {},
   "outputs": [],
   "source": []
  }
 ],
 "metadata": {
  "kernelspec": {
   "display_name": "Python 3 (ipykernel)",
   "language": "python",
   "name": "python3"
  },
  "language_info": {
   "codemirror_mode": {
    "name": "ipython",
    "version": 3
   },
   "file_extension": ".py",
   "mimetype": "text/x-python",
   "name": "python",
   "nbconvert_exporter": "python",
   "pygments_lexer": "ipython3",
   "version": "3.11.7"
  }
 },
 "nbformat": 4,
 "nbformat_minor": 5
}
